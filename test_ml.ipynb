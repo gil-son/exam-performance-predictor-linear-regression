{
 "cells": [
  {
   "cell_type": "markdown",
   "metadata": {},
   "source": [
    "### ✅ Step-by-Step ML Pipeline for Your Dataset\n",
    "#### 🔧 Step 1: Import Libraries"
   ]
  },
  {
   "cell_type": "code",
   "execution_count": 1,
   "metadata": {},
   "outputs": [],
   "source": [
    "import pandas as pd\n",
    "from sklearn.model_selection import train_test_split\n",
    "from sklearn.linear_model import LinearRegression\n",
    "from sklearn.ensemble import RandomForestRegressor\n",
    "from sklearn.metrics import r2_score, mean_squared_error\n",
    "from sklearn.preprocessing import LabelEncoder\n",
    "import matplotlib.pyplot as plt"
   ]
  },
  {
   "cell_type": "code",
   "execution_count": 2,
   "metadata": {},
   "outputs": [
    {
     "data": {
      "text/html": [
       "<div>\n",
       "<style scoped>\n",
       "    .dataframe tbody tr th:only-of-type {\n",
       "        vertical-align: middle;\n",
       "    }\n",
       "\n",
       "    .dataframe tbody tr th {\n",
       "        vertical-align: top;\n",
       "    }\n",
       "\n",
       "    .dataframe thead th {\n",
       "        text-align: right;\n",
       "    }\n",
       "</style>\n",
       "<table border=\"1\" class=\"dataframe\">\n",
       "  <thead>\n",
       "    <tr style=\"text-align: right;\">\n",
       "      <th></th>\n",
       "      <th>Age</th>\n",
       "      <th>Study Time (h/day)</th>\n",
       "      <th>Average sleep duration in hours</th>\n",
       "      <th>Practice Tests per Week</th>\n",
       "      <th>Food Quality</th>\n",
       "      <th>Practical Exercises</th>\n",
       "      <th>Average of latest practical exercises</th>\n",
       "      <th>Theoretical Exercises</th>\n",
       "      <th>Spaced Study</th>\n",
       "      <th>Motivation</th>\n",
       "      <th>Use of Study Techniques</th>\n",
       "      <th>Use of Distractions</th>\n",
       "      <th>Anxiety before the test</th>\n",
       "      <th>Performance (%)</th>\n",
       "      <th>Did Practical Exercises</th>\n",
       "    </tr>\n",
       "  </thead>\n",
       "  <tbody>\n",
       "    <tr>\n",
       "      <th>95</th>\n",
       "      <td>30</td>\n",
       "      <td>2</td>\n",
       "      <td>7</td>\n",
       "      <td>6</td>\n",
       "      <td>Media</td>\n",
       "      <td>No</td>\n",
       "      <td>NaN</td>\n",
       "      <td>Yes</td>\n",
       "      <td>Yes</td>\n",
       "      <td>Low</td>\n",
       "      <td>No</td>\n",
       "      <td>No</td>\n",
       "      <td>Media</td>\n",
       "      <td>80</td>\n",
       "      <td>0</td>\n",
       "    </tr>\n",
       "    <tr>\n",
       "      <th>96</th>\n",
       "      <td>24</td>\n",
       "      <td>7</td>\n",
       "      <td>7</td>\n",
       "      <td>1</td>\n",
       "      <td>Great</td>\n",
       "      <td>Yes</td>\n",
       "      <td>70.0</td>\n",
       "      <td>Yes</td>\n",
       "      <td>Yes</td>\n",
       "      <td>High</td>\n",
       "      <td>No</td>\n",
       "      <td>Yes</td>\n",
       "      <td>High</td>\n",
       "      <td>75</td>\n",
       "      <td>1</td>\n",
       "    </tr>\n",
       "    <tr>\n",
       "      <th>97</th>\n",
       "      <td>24</td>\n",
       "      <td>8</td>\n",
       "      <td>5</td>\n",
       "      <td>1</td>\n",
       "      <td>Good</td>\n",
       "      <td>Yes</td>\n",
       "      <td>80.0</td>\n",
       "      <td>Yes</td>\n",
       "      <td>Yes</td>\n",
       "      <td>High</td>\n",
       "      <td>Yes</td>\n",
       "      <td>Yes</td>\n",
       "      <td>Media</td>\n",
       "      <td>85</td>\n",
       "      <td>1</td>\n",
       "    </tr>\n",
       "    <tr>\n",
       "      <th>98</th>\n",
       "      <td>21</td>\n",
       "      <td>1</td>\n",
       "      <td>8</td>\n",
       "      <td>7</td>\n",
       "      <td>Great</td>\n",
       "      <td>Yes</td>\n",
       "      <td>75.0</td>\n",
       "      <td>Yes</td>\n",
       "      <td>No</td>\n",
       "      <td>Media</td>\n",
       "      <td>No</td>\n",
       "      <td>No</td>\n",
       "      <td>Low</td>\n",
       "      <td>80</td>\n",
       "      <td>1</td>\n",
       "    </tr>\n",
       "    <tr>\n",
       "      <th>99</th>\n",
       "      <td>20</td>\n",
       "      <td>5</td>\n",
       "      <td>8</td>\n",
       "      <td>7</td>\n",
       "      <td>Great</td>\n",
       "      <td>Yes</td>\n",
       "      <td>70.0</td>\n",
       "      <td>Yes</td>\n",
       "      <td>Yes</td>\n",
       "      <td>Media</td>\n",
       "      <td>No</td>\n",
       "      <td>Yes</td>\n",
       "      <td>Low</td>\n",
       "      <td>80</td>\n",
       "      <td>1</td>\n",
       "    </tr>\n",
       "  </tbody>\n",
       "</table>\n",
       "</div>"
      ],
      "text/plain": [
       "    Age  Study Time (h/day)  Average sleep duration in hours  \\\n",
       "95   30                   2                                7   \n",
       "96   24                   7                                7   \n",
       "97   24                   8                                5   \n",
       "98   21                   1                                8   \n",
       "99   20                   5                                8   \n",
       "\n",
       "    Practice Tests per Week Food Quality Practical Exercises  \\\n",
       "95                        6        Media                  No   \n",
       "96                        1        Great                 Yes   \n",
       "97                        1         Good                 Yes   \n",
       "98                        7        Great                 Yes   \n",
       "99                        7        Great                 Yes   \n",
       "\n",
       "    Average of latest practical exercises Theoretical Exercises Spaced Study  \\\n",
       "95                                    NaN                   Yes          Yes   \n",
       "96                                   70.0                   Yes          Yes   \n",
       "97                                   80.0                   Yes          Yes   \n",
       "98                                   75.0                   Yes           No   \n",
       "99                                   70.0                   Yes          Yes   \n",
       "\n",
       "   Motivation Use of Study Techniques Use of Distractions  \\\n",
       "95        Low                      No                  No   \n",
       "96       High                      No                 Yes   \n",
       "97       High                     Yes                 Yes   \n",
       "98      Media                      No                  No   \n",
       "99      Media                      No                 Yes   \n",
       "\n",
       "   Anxiety before the test  Performance (%)  Did Practical Exercises  \n",
       "95                   Media               80                        0  \n",
       "96                    High               75                        1  \n",
       "97                   Media               85                        1  \n",
       "98                     Low               80                        1  \n",
       "99                     Low               80                        1  "
      ]
     },
     "execution_count": 2,
     "metadata": {},
     "output_type": "execute_result"
    }
   ],
   "source": [
    "df = pd.read_csv(\"preparation_before_the_exam.csv\")\n",
    "\n",
    "df[\"Did Practical Exercises\"] = df[\"Practical Exercises\"].map({\"Yes\": 1, \"No\": 0})\n",
    "\n",
    "df.tail(5)"
   ]
  },
  {
   "cell_type": "markdown",
   "metadata": {},
   "source": [
    "### 🧹 Step 2: Load & Preprocess the Data"
   ]
  },
  {
   "cell_type": "code",
   "execution_count": 3,
   "metadata": {},
   "outputs": [
    {
     "name": "stdout",
     "output_type": "stream",
     "text": [
      "Rows with practical exercises: 53\n",
      "Rows without practical exercises: 47\n"
     ]
    }
   ],
   "source": [
    "# Instead of splitting the data, just print how many did vs didn't\n",
    "print(f\"Rows with practical exercises: {df['Did Practical Exercises'].sum()}\")\n",
    "print(f\"Rows without practical exercises: {(df['Did Practical Exercises'] == 0).sum()}\")"
   ]
  },
  {
   "cell_type": "code",
   "execution_count": 5,
   "metadata": {},
   "outputs": [],
   "source": [
    "def preprocess(df):\n",
    "    df = df.copy()\n",
    "\n",
    "    # Fill missing practical exercise averages with 0 (for students who didn't do them)\n",
    "    if \"Average of latest practical exercises\" in df.columns:\n",
    "        df[\"Average of latest practical exercises\"] = df[\"Average of latest practical exercises\"].fillna(0)\n",
    "\n",
    "    # Fill any other missing numeric values with 0\n",
    "    df = df.fillna(0)\n",
    "\n",
    "    # Encode categorical variables\n",
    "    le = LabelEncoder()\n",
    "    for col in df.select_dtypes(include=['object']):\n",
    "        if col != \"Practical Exercises\":  # already replaced by the binary column\n",
    "            df[col] = le.fit_transform(df[col].astype(str))\n",
    "\n",
    "    # Drop target-independent column\n",
    "    df = df.drop(columns=[\"Practical Exercises\"], errors=\"ignore\")\n",
    "\n",
    "    return df"
   ]
  },
  {
   "cell_type": "markdown",
   "metadata": {},
   "source": [
    "### 🎯 Step 3: Define Features and Target"
   ]
  },
  {
   "cell_type": "code",
   "execution_count": 6,
   "metadata": {},
   "outputs": [],
   "source": [
    "def prepare_features(df):\n",
    "    if len(df) < 2:\n",
    "        raise ValueError(f\"Not enough data to split. Only {len(df)} sample(s) available.\")\n",
    "    X = df.drop(columns=[\"Performance (%)\"])\n",
    "    y = df[\"Performance (%)\"]\n",
    "    return train_test_split(X, y, test_size=0.2, random_state=42)"
   ]
  },
  {
   "cell_type": "markdown",
   "metadata": {},
   "source": [
    "### 🤖 Step 4: Train and Compare Models"
   ]
  },
  {
   "cell_type": "code",
   "execution_count": 7,
   "metadata": {},
   "outputs": [],
   "source": [
    "def train_and_evaluate(X_train, X_test, y_train, y_test, model, model_name=\"Model\"):\n",
    "    model.fit(X_train, y_train)\n",
    "    y_pred = model.predict(X_test)\n",
    "    print(f\"{model_name} R2 Score: {r2_score(y_test, y_pred):.2f}\")\n",
    "    print(f\"{model_name} MSE: {mean_squared_error(y_test, y_pred):.2f}\")\n",
    "    plt.scatter(y_test, y_pred)\n",
    "    plt.xlabel(\"Actual\")\n",
    "    plt.ylabel(\"Predicted\")\n",
    "    plt.title(f\"{model_name} Prediction vs Reality\")\n",
    "    plt.show()"
   ]
  },
  {
   "cell_type": "markdown",
   "metadata": {},
   "source": [
    "### 🧪 Step 5: Run for Both Groups"
   ]
  },
  {
   "cell_type": "code",
   "execution_count": 8,
   "metadata": {},
   "outputs": [
    {
     "name": "stdout",
     "output_type": "stream",
     "text": [
      "Linear Regression - All R2 Score: 0.65\n",
      "Linear Regression - All MSE: 53.95\n"
     ]
    },
    {
     "data": {
      "image/png": "[encoded data removed]",
      "text/plain": [
       "<Figure size 640x480 with 1 Axes>"
      ]
     },
     "metadata": {},
     "output_type": "display_data"
    },
    {
     "name": "stdout",
     "output_type": "stream",
     "text": [
      "Random Forest - All R2 Score: 0.56\n",
      "Random Forest - All MSE: 68.74\n"
     ]
    },
    {
     "data": {
      "image/png": "[encoded data removed]",
      "text/plain": [
       "<Figure size 640x480 with 1 Axes>"
      ]
     },
     "metadata": {},
     "output_type": "display_data"
    }
   ],
   "source": [
    "# Process the entire dataset\n",
    "df_processed = preprocess(df)\n",
    "X_train, X_test, y_train, y_test = prepare_features(df_processed)\n",
    "\n",
    "# Train and evaluate on all students\n",
    "train_and_evaluate(X_train, X_test, y_train, y_test, LinearRegression(), \"Linear Regression - All\")\n",
    "train_and_evaluate(X_train, X_test, y_train, y_test, RandomForestRegressor(random_state=42), \"Random Forest - All\")"
   ]
  },
  {
   "cell_type": "code",
   "execution_count": 9,
   "metadata": {},
   "outputs": [
    {
     "name": "stdout",
     "output_type": "stream",
     "text": [
      "Expected input columns: ['Age', 'Study Time (h/day)', 'Average sleep duration in hours', 'Practice Tests per Week', 'Food Quality', 'Average of latest practical exercises', 'Theoretical Exercises', 'Spaced Study', 'Motivation', 'Use of Study Techniques', 'Use of Distractions', 'Anxiety before the test', 'Did Practical Exercises']\n"
     ]
    }
   ],
   "source": [
    "print(\"Expected input columns:\", list(X_train.columns))"
   ]
  },
  {
   "cell_type": "code",
   "execution_count": 10,
   "metadata": {},
   "outputs": [
    {
     "name": "stdout",
     "output_type": "stream",
     "text": [
      "🎯 Predicted Performance: 68.68%\n"
     ]
    }
   ],
   "source": [
    "new_student = {\n",
    "    \"Age\": 20,\n",
    "    \"Study Time (h/day)\": 4,\n",
    "    \"Average sleep duration in hours\": 7,\n",
    "    \"Practice Tests per Week\": 4,\n",
    "    \"Food Quality\": \"Good\",\n",
    "    \"Theoretical Exercises\": \"Yes\",\n",
    "    \"Spaced Study\": \"Yes\",\n",
    "    \"Motivation\": \"High\",\n",
    "    \"Use of Study Techniques\": \"Yes\",\n",
    "    \"Use of Distractions\": \"No\",\n",
    "    \"Anxiety before the test\": \"Low\",\n",
    "    \"Average of latest practical exercises\": 70,\n",
    "    \"Did Practical Exercises\": 1,\n",
    "}\n",
    "\n",
    "# Turn it into a DataFrame\n",
    "new_df = pd.DataFrame([new_student])\n",
    "\n",
    "# Preprocess it\n",
    "new_df_processed = preprocess(new_df)\n",
    "\n",
    "# Ensure it has same columns and order as training data\n",
    "missing_cols = set(X_train.columns) - set(new_df_processed.columns)\n",
    "for col in missing_cols:\n",
    "    new_df_processed[col] = 0  # Fill missing ones with default 0\n",
    "new_df_processed = new_df_processed[X_train.columns]\n",
    "\n",
    "# Predict using a trained model\n",
    "model = LinearRegression()\n",
    "model.fit(X_train, y_train)\n",
    "predicted_score = model.predict(new_df_processed)[0]\n",
    "print(f\"🎯 Predicted Performance: {predicted_score:.2f}%\")"
   ]
  }
 ],
 "metadata": {
  "kernelspec": {
   "display_name": "venv",
   "language": "python",
   "name": "python3"
  },
  "language_info": {
   "codemirror_mode": {
    "name": "ipython",
    "version": 3
   },
   "file_extension": ".py",
   "mimetype": "text/x-python",
   "name": "python",
   "nbconvert_exporter": "python",
   "pygments_lexer": "ipython3",
   "version": "3.12.3"
  }
 },
 "nbformat": 4,
 "nbformat_minor": 2
}
